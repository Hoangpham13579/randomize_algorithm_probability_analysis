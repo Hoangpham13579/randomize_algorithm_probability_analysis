{
 "cells": [
  {
   "cell_type": "markdown",
   "metadata": {},
   "source": [
    "## Random Walk algorithm to escape the forest\n",
    "This is the implementation for topic `Random Walk` from course `Randomized Algorithm and Probability Analysis` at University of Bonn ( Course website: https://nerva.cs.uni-bonn.de/doku.php/teaching/ss23/vl-randalgo )\n",
    "\n",
    "<img src=\"images/random_walk_exercise.png\" width=\"650\"/> <img src=\"images/answer_explanation.png\" width=\"650\"/>"
   ]
  },
  {
   "cell_type": "code",
   "execution_count": 1,
   "metadata": {},
   "outputs": [
    {
     "name": "stdout",
     "output_type": "stream",
     "text": [
      "The expected number of steps needed to escape the forest, starting from position (0, 0) is 5.57\n"
     ]
    }
   ],
   "source": [
    "import numpy as np\n",
    "\n",
    "def ex2_expected_steps_to_escape(range_size):\n",
    "    # Initialize the expected steps grid\n",
    "    E = np.zeros((range_size, range_size))\n",
    "\n",
    "    # When currently at forest's border, the expected steps to escape is 0\n",
    "    for i in range(-3, 4):  # from -3 to 3\n",
    "        for j in range(-3, 4):\n",
    "            if abs(i) + abs(j) == 3:\n",
    "                E[index(i, j) // range_size, index(i, j) % range_size] = 0\n",
    "\n",
    "    # Matrix E represents the expected steps to escape the forest from each positions\n",
    "    # Apply Central Limit Theorem --> Iteratively update E by the formula \n",
    "    #   h(t,k) = 0.25 * (h(t-1,k-1) + h(t-1,k+1) + h(t+1,k-1) + h(t+1,k+1)) + 1\n",
    "    # After enough iterations, E[3,3] is the expected steps to escape the forest, starting from (i=0,j=0) position\n",
    "    max_iterations = 1000\n",
    "    for _ in range(max_iterations):\n",
    "        E_new = np.copy(E)\n",
    "        for i in range(-3, 4):\n",
    "            for j in range(-3, 4):\n",
    "                if abs(i) + abs(j) < 3:\n",
    "                    idx = index(i, j)\n",
    "                    E_new[idx // range_size, idx % range_size] = 1 + 0.25 * (\n",
    "                        E[index(i - 1, j) // range_size, index(i - 1, j) % range_size] +\n",
    "                        E[index(i + 1, j) // range_size, index(i + 1, j) % range_size] +\n",
    "                        E[index(i, j - 1) // range_size, index(i, j - 1) % range_size] +\n",
    "                        E[index(i, j + 1) // range_size, index(i, j + 1) % range_size]\n",
    "                    )\n",
    "        # Check for convergence\n",
    "        if np.allclose(E, E_new, atol=1e-5):\n",
    "            break\n",
    "        E = E_new\n",
    "\n",
    "    # Output the expected steps to escape the forest, starting from (i=0,j=0) position\n",
    "    return E[index(0, 0) // range_size, index(0, 0) % range_size]\n",
    "\n",
    "# Mapping from (i, j) to a unique one-dim index\n",
    "def index(i, j):\n",
    "    # +3 is to handle negative index\n",
    "    return (i + 3) * range_size + (j + 3)\n",
    "\n",
    "# Define the grid size\n",
    "n = 7  # since |i| + |j| <= 3, the maximum coordinate will be 3, and the total range is from -3 to 3\n",
    "range_size = 2 * 3 + 1\n",
    "\n",
    "print(f'The expected number of steps needed to escape the forest, starting from position (0, 0) is {round(ex2_expected_steps_to_escape(range_size), 2)}')"
   ]
  }
 ],
 "metadata": {
  "kernelspec": {
   "display_name": "bonn",
   "language": "python",
   "name": "python3"
  },
  "language_info": {
   "codemirror_mode": {
    "name": "ipython",
    "version": 3
   },
   "file_extension": ".py",
   "mimetype": "text/x-python",
   "name": "python",
   "nbconvert_exporter": "python",
   "pygments_lexer": "ipython3",
   "version": "3.9.19"
  }
 },
 "nbformat": 4,
 "nbformat_minor": 2
}
